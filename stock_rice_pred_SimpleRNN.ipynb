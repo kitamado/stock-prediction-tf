{
 "cells": [
  {
   "cell_type": "code",
   "execution_count": 1,
   "id": "prostate-shuttle",
   "metadata": {},
   "outputs": [],
   "source": [
    "# build a simple rnn with cleaned test data to predict stock rice\n",
    "# step1: import modules\n",
    "import numpy as np\n",
    "import pandas as pd\n",
    "import tensorflow as tf\n",
    "from tensorflow.keras.layers import Dropout, Dense, SimpleRNN\n",
    "from sklearn.preprocessing import MinMaxScaler\n",
    "from sklearn.metrics import mean_squared_error, mean_absolute_error\n",
    "import matplotlib.pyplot as plt\n",
    "import os\n",
    "import math"
   ]
  },
  {
   "cell_type": "code",
   "execution_count": 2,
   "id": "quantitative-whole",
   "metadata": {},
   "outputs": [],
   "source": [
    "from clean_data import clean_csv_data\n",
    "stock_code = '600000'\n",
    "df = clean_csv_data(stock_code + '.csv')"
   ]
  },
  {
   "cell_type": "code",
   "execution_count": 3,
   "id": "established-value",
   "metadata": {},
   "outputs": [],
   "source": [
    "# step2: 制定训练集和测试集\n",
    "# 总数据集大小\n",
    "data_sz = df.shape[0]\n",
    "# 计算测试集大小, 约为原数据的%20. 向上取整\n",
    "test_set_sz = math.ceil(data_sz * 0.2)\n",
    "training_set_sz = data_sz - test_set_sz\n",
    "# 前(data_sz - test_set_sz)天的涨幅作为训练集, 后test_set_sz天的涨幅作为测试集\n",
    "training_set = df.iloc[0:training_set_sz, 2:3].values\n",
    "test_set = df.iloc[-test_set_sz:, 2:3]"
   ]
  },
  {
   "cell_type": "code",
   "execution_count": 4,
   "id": "former-bishop",
   "metadata": {},
   "outputs": [],
   "source": [
    "# 数据归一化到(0,1)之间\n",
    "sc = MinMaxScaler(feature_range=(0, 1))\n",
    "# 求得训练集的最大值，最小值这些训练集固有的属性，并在训练集上进行归一化\n",
    "training_set_scaled = sc.fit_transform(training_set) \n",
    "test_set = sc.transform(test_set)  # 利用训练集的属性对测试集进行归一化"
   ]
  },
  {
   "cell_type": "code",
   "execution_count": 5,
   "id": "romance-debate",
   "metadata": {},
   "outputs": [],
   "source": [
    "x_train = []\n",
    "y_train = []\n",
    "\n",
    "x_test = []\n",
    "y_test = []\n",
    "sample_sz = 15"
   ]
  },
  {
   "cell_type": "code",
   "execution_count": 6,
   "id": "dried-sterling",
   "metadata": {},
   "outputs": [],
   "source": [
    "# 利用for循环，遍历整个训练集，提取训练集中连续sample_sz=15天的开盘价作为输入特征x_train，\n",
    "# 第16天的数据作为标签，for循环共构建training_set_sz-15组数据。\n",
    "for i in range(sample_sz, len(training_set_scaled)):\n",
    "    x_train.append(training_set_scaled[i - sample_sz:i, 0])\n",
    "    y_train.append(training_set_scaled[i, 0])\n",
    "# 对训练集进行打乱\n",
    "np.random.seed(56)\n",
    "np.random.shuffle(x_train)\n",
    "np.random.seed(56)\n",
    "np.random.shuffle(y_train)\n",
    "tf.random.set_seed(56)\n",
    "# 将训练集由list格式变为array格式\n",
    "x_train, y_train = np.array(x_train), np.array(y_train)"
   ]
  },
  {
   "cell_type": "code",
   "execution_count": 7,
   "id": "manual-singing",
   "metadata": {},
   "outputs": [],
   "source": [
    "# RNN输入：[送入样本数， 循环核时间展开步数， 每个时间步输入特征个数]\n",
    "# 此处整个数据集送入，送入样本数为x_train.shape[0]组数据；输入sample_sz个开盘价，预测出第sample_sz+1天的开盘价，\n",
    "# 循环核时间展开步数为sample_sz; 每个时间步送入的特征是某一天的开盘价，只有1个数据，故每个时间步输入特征个数为1\n",
    "x_train = np.reshape(x_train, (x_train.shape[0], sample_sz, 1))\n",
    "# 测试集\n",
    "for i in range(sample_sz, test_set_sz):\n",
    "    x_test.append(test_set[i - sample_sz:i, 0])\n",
    "    y_test.append(test_set[i, 0])\n",
    "# 测试集变array并reshape为符合RNN输入要求\n",
    "x_test, y_test = np.array(x_test), np.array(y_test)\n",
    "x_test = np.reshape(x_test, (x_test.shape[0], sample_sz, 1))"
   ]
  },
  {
   "cell_type": "code",
   "execution_count": 8,
   "id": "assumed-layout",
   "metadata": {},
   "outputs": [],
   "source": [
    "# step3: 逐层搭建网络结构\n",
    "model = tf.keras.Sequential([\n",
    "    SimpleRNN(80, return_sequences=True),\n",
    "    Dropout(0.2),\n",
    "    SimpleRNN(100),\n",
    "    Dropout(0.2),\n",
    "    Dense(1)\n",
    "])"
   ]
  },
  {
   "cell_type": "code",
   "execution_count": 9,
   "id": "champion-transmission",
   "metadata": {},
   "outputs": [],
   "source": [
    "# step4: 在 model.compile()中配置训练方法，选择训练时使用的优化器、损失函数和最终评价指标。\n",
    "model.compile(optimizer=tf.keras.optimizers.Adam(0.001),\n",
    "              loss='mean_squared_error')  # 损失函数用均方误差\n",
    "# 该应用只观测loss数值，不观测准确率，所以删去metrics选项"
   ]
  },
  {
   "cell_type": "code",
   "execution_count": 10,
   "id": "british-satellite",
   "metadata": {},
   "outputs": [
    {
     "name": "stdout",
     "output_type": "stream",
     "text": [
      "-------------load the model-----------------\n",
      "Train on 187 samples, validate on 36 samples\n",
      "Epoch 1/50\n",
      "187/187 [==============================] - 2s 9ms/sample - loss: 0.0094 - val_loss: 0.0194\n",
      "Epoch 2/50\n",
      "187/187 [==============================] - 0s 1ms/sample - loss: 0.0104 - val_loss: 0.0192\n",
      "Epoch 3/50\n",
      "187/187 [==============================] - 0s 1ms/sample - loss: 0.0092 - val_loss: 0.0190\n",
      "Epoch 4/50\n",
      "187/187 [==============================] - 0s 1ms/sample - loss: 0.0090 - val_loss: 0.0196\n",
      "Epoch 5/50\n",
      "187/187 [==============================] - 0s 1ms/sample - loss: 0.0091 - val_loss: 0.0202\n",
      "Epoch 6/50\n",
      "187/187 [==============================] - 0s 1ms/sample - loss: 0.0084 - val_loss: 0.0194\n",
      "Epoch 7/50\n",
      "187/187 [==============================] - 0s 1ms/sample - loss: 0.0097 - val_loss: 0.0201\n",
      "Epoch 8/50\n",
      "187/187 [==============================] - 0s 1ms/sample - loss: 0.0100 - val_loss: 0.0194\n",
      "Epoch 9/50\n",
      "187/187 [==============================] - 0s 1ms/sample - loss: 0.0093 - val_loss: 0.0192\n",
      "Epoch 10/50\n",
      "187/187 [==============================] - 0s 1ms/sample - loss: 0.0095 - val_loss: 0.0210\n",
      "Epoch 11/50\n",
      "187/187 [==============================] - 0s 1ms/sample - loss: 0.0099 - val_loss: 0.0224\n",
      "Epoch 12/50\n",
      "187/187 [==============================] - 0s 2ms/sample - loss: 0.0097 - val_loss: 0.0190\n",
      "Epoch 13/50\n",
      "187/187 [==============================] - 0s 1ms/sample - loss: 0.0095 - val_loss: 0.0193\n",
      "Epoch 14/50\n",
      "187/187 [==============================] - 0s 1ms/sample - loss: 0.0092 - val_loss: 0.0199\n",
      "Epoch 15/50\n",
      "187/187 [==============================] - 0s 1ms/sample - loss: 0.0091 - val_loss: 0.0190\n",
      "Epoch 16/50\n",
      "187/187 [==============================] - 0s 1ms/sample - loss: 0.0095 - val_loss: 0.0187\n",
      "Epoch 17/50\n",
      "187/187 [==============================] - 0s 1ms/sample - loss: 0.0100 - val_loss: 0.0195\n",
      "Epoch 18/50\n",
      "187/187 [==============================] - 0s 1ms/sample - loss: 0.0105 - val_loss: 0.0196\n",
      "Epoch 19/50\n",
      "187/187 [==============================] - 0s 1ms/sample - loss: 0.0105 - val_loss: 0.0210\n",
      "Epoch 20/50\n",
      "187/187 [==============================] - 0s 1ms/sample - loss: 0.0099 - val_loss: 0.0208\n",
      "Epoch 21/50\n",
      "187/187 [==============================] - 0s 1ms/sample - loss: 0.0106 - val_loss: 0.0197\n",
      "Epoch 22/50\n",
      "187/187 [==============================] - 0s 1ms/sample - loss: 0.0104 - val_loss: 0.0195\n",
      "Epoch 23/50\n",
      "187/187 [==============================] - 0s 2ms/sample - loss: 0.0096 - val_loss: 0.0190\n",
      "Epoch 24/50\n",
      "187/187 [==============================] - 0s 2ms/sample - loss: 0.0103 - val_loss: 0.0195\n",
      "Epoch 25/50\n",
      "187/187 [==============================] - 0s 1ms/sample - loss: 0.0094 - val_loss: 0.0196\n",
      "Epoch 26/50\n",
      "187/187 [==============================] - 0s 1ms/sample - loss: 0.0094 - val_loss: 0.0185\n",
      "Epoch 27/50\n",
      "187/187 [==============================] - 0s 2ms/sample - loss: 0.0098 - val_loss: 0.0199\n",
      "Epoch 28/50\n",
      "187/187 [==============================] - 0s 2ms/sample - loss: 0.0098 - val_loss: 0.0187\n",
      "Epoch 29/50\n",
      "187/187 [==============================] - 0s 2ms/sample - loss: 0.0093 - val_loss: 0.0209\n",
      "Epoch 30/50\n",
      "187/187 [==============================] - 0s 1ms/sample - loss: 0.0098 - val_loss: 0.0198\n",
      "Epoch 31/50\n",
      "187/187 [==============================] - 0s 1ms/sample - loss: 0.0096 - val_loss: 0.0196\n",
      "Epoch 32/50\n",
      "187/187 [==============================] - 0s 1ms/sample - loss: 0.0096 - val_loss: 0.0212\n",
      "Epoch 33/50\n",
      "187/187 [==============================] - 0s 2ms/sample - loss: 0.0103 - val_loss: 0.0191\n",
      "Epoch 34/50\n",
      "187/187 [==============================] - 0s 1ms/sample - loss: 0.0101 - val_loss: 0.0191\n",
      "Epoch 35/50\n",
      "187/187 [==============================] - 0s 2ms/sample - loss: 0.0098 - val_loss: 0.0192\n",
      "Epoch 36/50\n",
      "187/187 [==============================] - 0s 2ms/sample - loss: 0.0090 - val_loss: 0.0192\n",
      "Epoch 37/50\n",
      "187/187 [==============================] - 0s 1ms/sample - loss: 0.0102 - val_loss: 0.0196\n",
      "Epoch 38/50\n",
      "187/187 [==============================] - 0s 1ms/sample - loss: 0.0102 - val_loss: 0.0216\n",
      "Epoch 39/50\n",
      "187/187 [==============================] - 0s 2ms/sample - loss: 0.0097 - val_loss: 0.0200\n",
      "Epoch 40/50\n",
      "187/187 [==============================] - 0s 2ms/sample - loss: 0.0092 - val_loss: 0.0214\n",
      "Epoch 41/50\n",
      "187/187 [==============================] - 0s 1ms/sample - loss: 0.0092 - val_loss: 0.0189\n",
      "Epoch 42/50\n",
      "187/187 [==============================] - 0s 1ms/sample - loss: 0.0099 - val_loss: 0.0205\n",
      "Epoch 43/50\n",
      "187/187 [==============================] - 0s 1ms/sample - loss: 0.0098 - val_loss: 0.0199\n",
      "Epoch 44/50\n",
      "187/187 [==============================] - 0s 1ms/sample - loss: 0.0090 - val_loss: 0.0194\n",
      "Epoch 45/50\n",
      "187/187 [==============================] - 0s 1ms/sample - loss: 0.0095 - val_loss: 0.0208\n",
      "Epoch 46/50\n",
      "187/187 [==============================] - 0s 1ms/sample - loss: 0.0097 - val_loss: 0.0206\n",
      "Epoch 47/50\n",
      "187/187 [==============================] - 0s 1ms/sample - loss: 0.0098 - val_loss: 0.0196\n",
      "Epoch 48/50\n",
      "187/187 [==============================] - 0s 1ms/sample - loss: 0.0097 - val_loss: 0.0195\n",
      "Epoch 49/50\n",
      "187/187 [==============================] - 0s 1ms/sample - loss: 0.0099 - val_loss: 0.0200\n",
      "Epoch 50/50\n",
      "187/187 [==============================] - 0s 1ms/sample - loss: 0.0085 - val_loss: 0.0201\n",
      "Model: \"sequential\"\n",
      "_________________________________________________________________\n",
      "Layer (type)                 Output Shape              Param #   \n",
      "=================================================================\n",
      "simple_rnn (SimpleRNN)       multiple                  6560      \n",
      "_________________________________________________________________\n",
      "dropout (Dropout)            multiple                  0         \n",
      "_________________________________________________________________\n",
      "simple_rnn_1 (SimpleRNN)     multiple                  18100     \n",
      "_________________________________________________________________\n",
      "dropout_1 (Dropout)          multiple                  0         \n",
      "_________________________________________________________________\n",
      "dense (Dense)                multiple                  101       \n",
      "=================================================================\n",
      "Total params: 24,761\n",
      "Trainable params: 24,761\n",
      "Non-trainable params: 0\n",
      "_________________________________________________________________\n"
     ]
    }
   ],
   "source": [
    "# 存取模型(断点续训)\n",
    "# 读取模型\n",
    "checkpoint_save_path = \"./checkpoint/stock_rice_pred_SimpleRNN.ckpt\"\n",
    "\n",
    "if os.path.exists(checkpoint_save_path + '.index'):\n",
    "    print('-------------load the model-----------------')\n",
    "    model.load_weights(checkpoint_save_path)\n",
    "\n",
    "# 保存模型\n",
    "cp_callback = tf.keras.callbacks.ModelCheckpoint(filepath=checkpoint_save_path,\n",
    "                                                 save_weights_only=True,\n",
    "                                                 save_best_only=True,\n",
    "                                                 monitor='val_loss')\n",
    "\n",
    "history = model.fit(x_train, y_train, batch_size=8, epochs=50, validation_data=(x_test, y_test), validation_freq=1,\n",
    "                    callbacks=[cp_callback])\n",
    "\n",
    "model.summary()"
   ]
  },
  {
   "cell_type": "code",
   "execution_count": 11,
   "id": "absolute-bicycle",
   "metadata": {},
   "outputs": [],
   "source": [
    "# 参数提取存入文本\n",
    "file = open('./weights/stock_rice_pred_SimpleRNN_weights.txt', 'w')  \n",
    "for v in model.trainable_variables:\n",
    "    file.write(str(v.name) + '\\n')\n",
    "    file.write(str(v.shape) + '\\n')\n",
    "    file.write(str(v.numpy()) + '\\n')\n",
    "file.close()\n"
   ]
  },
  {
   "cell_type": "code",
   "execution_count": 12,
   "id": "spectacular-letters",
   "metadata": {},
   "outputs": [
    {
     "data": {
      "image/png": "[encoded data removed]",
      "text/plain": [
       "<Figure size 432x288 with 1 Axes>"
      ]
     },
     "metadata": {
      "needs_background": "light"
     },
     "output_type": "display_data"
    }
   ],
   "source": [
    "# acc/loss 可视化\n",
    "loss = history.history['loss']\n",
    "val_loss = history.history['val_loss']\n",
    "\n",
    "plt.plot(loss, label='Training Loss')\n",
    "plt.plot(val_loss, label='Validation Loss')\n",
    "plt.title('Training and Validation Loss')\n",
    "plt.legend()\n",
    "plt.show()\n"
   ]
  },
  {
   "cell_type": "code",
   "execution_count": 16,
   "id": "operating-annual",
   "metadata": {},
   "outputs": [
    {
     "data": {
      "image/png": "[encoded data removed]",
      "text/plain": [
       "<Figure size 432x288 with 1 Axes>"
      ]
     },
     "metadata": {
      "needs_background": "light"
     },
     "output_type": "display_data"
    },
    {
     "data": {
      "text/plain": [
       "<Figure size 432x288 with 0 Axes>"
      ]
     },
     "metadata": {},
     "output_type": "display_data"
    }
   ],
   "source": [
    "# 预测\n",
    "# 测试集输入模型进行预测\n",
    "predicted_stock_rice = model.predict(x_test)\n",
    "# 对预测数据还原---从（0，1）反归一化到原始范围\n",
    "predicted_stock_rice = sc.inverse_transform(predicted_stock_rice)\n",
    "# 对真实数据还原---从（0，1）反归一化到原始范围\n",
    "real_stock_rice = sc.inverse_transform(test_set[sample_sz:])\n",
    "# 画出真实数据和预测数据的对比曲线\n",
    "plt.plot(real_stock_rice, color='red', label='stk_code-'+stock_code+'-rice')\n",
    "plt.plot(predicted_stock_rice, color='blue', label='Predicted '+'stk_code-'+stock_code+'-rice')\n",
    "plt.title('stk_code '+stock_code + ' rice Prediction')\n",
    "plt.xlabel('Time')\n",
    "plt.ylabel('Stock rice')\n",
    "plt.legend()\n",
    "plt.show()\n",
    "plt.savefig('RNN_Rice_Pridiction.png')"
   ]
  },
  {
   "cell_type": "code",
   "execution_count": null,
   "id": "billion-rescue",
   "metadata": {},
   "outputs": [],
   "source": []
  }
 ],
 "metadata": {
  "kernelspec": {
   "display_name": "Python [conda env:TF2.1]",
   "language": "python",
   "name": "conda-env-TF2.1-py"
  },
  "language_info": {
   "codemirror_mode": {
    "name": "ipython",
    "version": 3
   },
   "file_extension": ".py",
   "mimetype": "text/x-python",
   "name": "python",
   "nbconvert_exporter": "python",
   "pygments_lexer": "ipython3",
   "version": "3.7.10"
  }
 },
 "nbformat": 4,
 "nbformat_minor": 5
}
